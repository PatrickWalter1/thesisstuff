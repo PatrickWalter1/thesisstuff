{
 "cells": [
  {
   "cell_type": "code",
   "execution_count": 25,
   "metadata": {
    "collapsed": true
   },
   "outputs": [],
   "source": [
    "import matplotlib.pyplot as plt\n",
    "import numpy as np\n",
    "import pandas as pd\n",
    "import os\n",
    "from sklearn import linear_model\n",
    "from sklearn.metrics import mean_absolute_error, r2_score\n",
    "from sklearn.feature_selection import VarianceThreshold, SelectKBest, chi2, f_regression, mutual_info_regression\n"
   ]
  },
  {
   "cell_type": "code",
   "execution_count": 26,
   "metadata": {
    "collapsed": false
   },
   "outputs": [
    {
     "name": "stdout",
     "output_type": "stream",
     "text": [
      "<class 'pandas.core.frame.DataFrame'>\n",
      "RangeIndex: 391 entries, 0 to 390\n",
      "Data columns (total 1 columns):\n",
      "Timestamp\tAUSRECM\tCHNRECM\tCSUSHPINSA\tDEUREC\tEUROREC\tGBRRECM\tJPNRECP\tLXXRNSA\tNYXRNSA\tSFTPAGRM158SFRBSF\tSFTPGR12M159SFRBSF\tSFTPGRM157SFRBSF\tSFTPINDM114SFRBSF\tSFXRNSA\tSPCS10RNSA\tUSARECM\tUSPHCI\tUSREC\tUSRECM\tUSRECP\tIBEVERAGES\tIFOOD\tIFATS_OILS\tIGRAINS\tIOTHERFOOD\tIRAW_MATERIAL\tITIMBER\tIOTHERRAWMAT\tIAGRICULTURE\tALUMINUM\tBANANA_US\tBARLEY\tCOAL_AUS\tCOAL_SAFRICA\tCOCOA\tCOCONUT_OIL\tCOFFEE_ARABIC\tCOFFEE_ROBUS\tCOPPER\tCOPRA\tCOTTON_A_INDX\tCRUDE_PETRO\tCRUDE_BRENT\tCRUDE_DUBAI\tCRUDE_WTI\tDAP\tIENERGY\tIFERTILIZERS\tFISH_MEAL\tGOLD\tGRNUT_OIL\tIRON_ORE\tLEAD\tLOGS_CMR\tLOGS_MYS\tMAIZE\tBEEF\tCHICKEN\tLAMB\tIMETMIN\tNGAS_JP\tNGAS_EUR\tNGAS_US\tNICKEL\tINONFUEL\tORANGE\tPALM_OIL\tPHOSROCK\tPLATINUM\tPLYWOOD\tPOTASH\tRICE_A1\tRICE_25\tRICE_05\tRUBBER1_MYSG\tSAWNWD_MYS\tSHRIMP_MEX\tSILVER\tSORGHUM\tSOYBEAN_MEAL\tSOYBEAN_OIL\tSOYBEANS\tSTL_JP_CROLL\tSTL_JP_HROLL\tSTL_JP_WIROD\tSTL_JP_REBAR\tSUGAR_EU\tSUGAR_US\tSUGAR_WLD\tTEA_AVG\tTEA_COLOMBO\tTEA_KOLKATA\tTEA_MOMBASA\tTIN\tTOBAC_US\tTSP\tUREA_EE_BULK\tWHEAT_CANADI\tWHEAT_US_HRW\tWHEAT_US_SRW\tWOODPULP\tZINC\tCUUR0000SAF112\tPCU3114223114224Z\tPCU3117103117101\tPCU3117103117102\tWPU022\tEXCHUS\tEXDNUS\tEXHKUS\tEXINUS\tEXJPUS\tEXKOUS\tEXMAUS\tEXNOUS\tEXSDUS\tEXSFUS\tEXSIUS\tEXSLUS\tEXSZUS\tEXTAUS\tEXTHUS\tEXUSAL\tEXUSNZ\tEXUSUK\tTWEXBMTH\tTWEXBPA\tTWEXMMTH\tTWEXMPA\tTWEXOMTH\tTWEXOPA\tMCOILWTICO\tPOLVOILUSDM\tPPOILUSDM\tPROILUSDM\tPSOILUSDM\tWPU02\tWPU02120301\tWPU022104\tWPU0223\tWPU023\tWPU02420301\tWPU0252\tWPU02780109\tWPUFD4111\tWPUFD41113\tUMCSENT\tUSSLIND\tAverage of RU2000VPR\tAverage of RU3000GTR\tAverage of RU2000VTR\tAverage of RU2500TR\tAverage of RU3000PR\tAverage of RU3000TR\tAverage of RU3000VPR\tAverage of WILLLRGCAP\tAverage of RU3000VTR\tAverage of RUMIDCAPPR\tAverage of RUMIDCAPTR\tAverage of RUTOP200TR\tAverage of NASDAQCOM\tAverage of WILLLRGCAPVAL\tAverage of RU1000GPR\tAverage of WILLSMLCAPVAL\tAverage of WILLSMLCAP\tAverage of WILLMIDCAP\tAverage of WILLMICROCAP\tAverage of RU2000TR\tAverage of RU2000PR\tAverage of RU2000GPR\tAverage of RU1000VTR\tAverage of RU1000VPR\tAverage of RU1000TR\tAverage of RU1000PR\tAverage of RU1000GTR\tAverage of NASDAQ100\tAverage of WILLRESIND\tAverage of WILLREITIND\tAverage of WILL5000PRFC\tAverage of WILL5000PR\tAverage of WILL5000INDFC\tAverage of WILL5000IND\tAverage of WILL4500IND\tNFCINONFINLEVERAGE\tAverage of BAMLCC0A0CMTRIV\tAverage of BAMLCC8A015PYTRIV\tAverage of BAMLCC2A035YTRIV\tAverage of BAMLCC7A01015YTRIV\tAverage of BAMLCC1A013YTRIV\tAAA\tCANCPICORMINMEI\tCANCPIHOUMINMEI\tCANDH\tCANEPUINDXM\tCANPPDMMINMEI\tCANREC\tCANRECM\tCANRECP\tCCRETT01CAM661N\tCCUSMA02CAM618N\tCCUSMA02CAM659N\tCCUSMA02CAM661N\tCCUSSP01CAM650N\tCFNAI\tCFNAIDIFF\tCFNAIMA3\tCPGREN01CAM657N\tCPGREN01CAM659N\tCPIFABNS\tCSCICP03CAM665S\tCURRNS\tCUUR0000SAF11\tCUUR0000SEFV\tEUANDH\tEXCAUS\tFEDFUNDS\tGS10\tINTGSBCAM193N\tINTGSTCAM193N\tIR3TIB01CAM156N\tIRLTLT01CAM156N\tIRSTCB01CAM156N\tIRSTCI01CAM156N\tIRSTPI01CAM156N\tLFEAAGTTCAM647N\tLFEACNTTCAM647N\tLFEAICTTCAM647N\tLFEAINTTCAM647N\tLFEASETTCAM647N\tLNU04000001\tLNU04000002\tLNU04000003\tLNU04000006\tLNU04000009\tLNU04000024\tM1NS\tMABMM203CAM189N\tMABMM301CAM189N\tMAM1A2CAM189N\tMAM1A3CAM189N\tMAM2A2CAM189N\tMAM2A3CAM189N\tMAM2A4CAM189N\tMAM3A3CAM189N\tMAM3A4CAM189N\tMANMM101CAM189N\tMPRIME\tNNCABIS\tOCDCBN\tOCDNS\tOCDTIN\tOILPRICE\tOPCNRE01CAM661N\tPANDI\tPIEAFD01CAM661N\tPIEAMP01CAM661N\tPIEAMP02CAM659N\tPISPFG01CAM661N\tPISPIG01CAM661N\tPISPPR01CAM661N\tPPIACO\tRECPROUSM156N\tRNCABIS\tSPASTT01CAM657N\tSPASTT01CAM661N\tTB3MS\tTCDNS\tTRESEGCAM052N\tTRESEGCAM194N\tUNRATENSA\tVALEXPCAM052N\tWTISPLC\tXTIMVA01CAM664N\tXTNTVA01CAM664N\tAverage of USD12MD156N\tAverage of USD6MTD156N\tAverage of USD1MTD156N\tAverage of USD3MTD156N\tAverage of VXOCLS\tAverage of MORTGAGE30US    391 non-null object\n",
      "dtypes: object(1)\n",
      "memory usage: 3.1+ KB\n",
      "<class 'pandas.core.frame.DataFrame'>\n",
      "RangeIndex: 398 entries, 0 to 397\n",
      "Data columns (total 23 columns):\n",
      "Timestamp                     398 non-null int64\n",
      "Food 17                       398 non-null float64\n",
      "restaurants 17                398 non-null float64\n",
      "Vegetables                    398 non-null float64\n",
      "Other                         398 non-null float64\n",
      "Meat                          398 non-null float64\n",
      "Dairy products and eggs       398 non-null float64\n",
      "Bakery                        398 non-null float64\n",
      "Fruit                         398 non-null float64\n",
      "All-items                     398 non-null float64\n",
      "Food purchased from stores    398 non-null float64\n",
      "Fresh or frozen beef          398 non-null float64\n",
      "Fresh or frozen pork          398 non-null float64\n",
      "Fresh or frozen chicken       398 non-null float64\n",
      "Dairy products                398 non-null float64\n",
      "Eggs                          398 non-null float64\n",
      "Coffee                        398 non-null float64\n",
      "Baby foods                    398 non-null float64\n",
      "Shelter 18                    398 non-null float64\n",
      "Transportation                398 non-null float64\n",
      "Gasoline                      398 non-null float64\n",
      "Energy 25                     398 non-null float64\n",
      "Fish seafood                  398 non-null float64\n",
      "dtypes: float64(22), int64(1)\n",
      "memory usage: 71.6 KB\n"
     ]
    }
   ],
   "source": [
    "# data set from jay divided into two files\n",
    "attributes = \"Updated_2018_Dataset.csv\"\n",
    "attributes_df = pd.read_csv(attributes)\n",
    "\n",
    "targets = \"2018_Targets_2017.csv\"\n",
    "#targets dataframe contains all groups including Food 17\n",
    "targets_df = pd.read_csv(targets)\n",
    "\n",
    "attributes_df.info()\n",
    "targets_df.info()"
   ]
  },
  {
   "cell_type": "code",
   "execution_count": 27,
   "metadata": {
    "collapsed": true
   },
   "outputs": [],
   "source": [
    "#magic numbers to start at 1985 January and end December 2017\n",
    "attributes_df = attributes_df[170:-6]\n",
    "targets_df= targets_df[170:-2]"
   ]
  },
  {
   "cell_type": "code",
   "execution_count": 28,
   "metadata": {
    "collapsed": true
   },
   "outputs": [],
   "source": [
    "#individual target dataframes\n",
    "CPI_df = targets_df['Food 17']\n",
    "restaurants_df = targets_df['restaurants 17']\n",
    "vegetables_df = targets_df['Vegetables ']\n",
    "other_df = targets_df['Other ']\n",
    "meat_df = targets_df['Meat']\n",
    "dairyandeggs_df = targets_df['Dairy products and eggs']\n",
    "bakery_df = targets_df['Bakery']\n",
    "fruit_df = targets_df['Fruit']\n",
    "allitems_df = targets_df['All-items']\n",
    "fromstores_df = targets_df['Food purchased from stores']\n",
    "beef_df = targets_df['Fresh or frozen beef']\n",
    "pork_df = targets_df['Fresh or frozen pork']\n",
    "chicken_df = targets_df['Fresh or frozen chicken']\n",
    "dairy_df = targets_df['Dairy products']\n",
    "eggs_df = targets_df['Eggs']\n",
    "coffee_df = targets_df['Coffee']\n",
    "babyfood_df = targets_df['Baby foods']\n",
    "shelter18_df = targets_df['Shelter 18']\n",
    "transportation_df = targets_df['Transportation']\n",
    "gas_df = targets_df['Gasoline']\n",
    "energy25_df = targets_df['Energy 25']\n",
    "fishandseafood_df = targets_df['Fish seafood']"
   ]
  },
  {
   "cell_type": "code",
   "execution_count": 29,
   "metadata": {
    "collapsed": false
   },
   "outputs": [
    {
     "ename": "ValueError",
     "evalue": "labels ['Timestamp'] not contained in axis",
     "output_type": "error",
     "traceback": [
      "\u001b[0;31m---------------------------------------------------------------------------\u001b[0m",
      "\u001b[0;31mValueError\u001b[0m                                Traceback (most recent call last)",
      "\u001b[0;32m<ipython-input-29-f7b4811c17fc>\u001b[0m in \u001b[0;36m<module>\u001b[0;34m()\u001b[0m\n\u001b[1;32m      5\u001b[0m \u001b[1;31m# remoe the timestamps from both\u001b[0m\u001b[1;33m\u001b[0m\u001b[1;33m\u001b[0m\u001b[0m\n\u001b[1;32m      6\u001b[0m \u001b[0mtargets_df\u001b[0m \u001b[1;33m=\u001b[0m \u001b[0mtargets_df\u001b[0m\u001b[1;33m.\u001b[0m\u001b[0mdrop\u001b[0m\u001b[1;33m(\u001b[0m\u001b[1;34m'Timestamp'\u001b[0m\u001b[1;33m,\u001b[0m \u001b[0maxis\u001b[0m \u001b[1;33m=\u001b[0m \u001b[1;36m1\u001b[0m\u001b[1;33m)\u001b[0m\u001b[1;33m\u001b[0m\u001b[0m\n\u001b[0;32m----> 7\u001b[0;31m \u001b[0mattributes_df\u001b[0m \u001b[1;33m=\u001b[0m \u001b[0mattributes_df\u001b[0m\u001b[1;33m.\u001b[0m\u001b[0mdrop\u001b[0m\u001b[1;33m(\u001b[0m\u001b[1;34m'Timestamp'\u001b[0m\u001b[1;33m,\u001b[0m \u001b[0maxis\u001b[0m \u001b[1;33m=\u001b[0m \u001b[1;36m1\u001b[0m\u001b[1;33m)\u001b[0m\u001b[1;33m\u001b[0m\u001b[0m\n\u001b[0m\u001b[1;32m      8\u001b[0m \u001b[1;33m\u001b[0m\u001b[0m\n\u001b[1;32m      9\u001b[0m \u001b[1;31m# drop all attributes that are missing values for now\u001b[0m\u001b[1;33m\u001b[0m\u001b[1;33m\u001b[0m\u001b[0m\n",
      "\u001b[0;32mC:\\Users\\Patrick\\Anaconda3\\lib\\site-packages\\pandas\\core\\generic.py\u001b[0m in \u001b[0;36mdrop\u001b[0;34m(self, labels, axis, level, inplace, errors)\u001b[0m\n\u001b[1;32m   1905\u001b[0m                 \u001b[0mnew_axis\u001b[0m \u001b[1;33m=\u001b[0m \u001b[0maxis\u001b[0m\u001b[1;33m.\u001b[0m\u001b[0mdrop\u001b[0m\u001b[1;33m(\u001b[0m\u001b[0mlabels\u001b[0m\u001b[1;33m,\u001b[0m \u001b[0mlevel\u001b[0m\u001b[1;33m=\u001b[0m\u001b[0mlevel\u001b[0m\u001b[1;33m,\u001b[0m \u001b[0merrors\u001b[0m\u001b[1;33m=\u001b[0m\u001b[0merrors\u001b[0m\u001b[1;33m)\u001b[0m\u001b[1;33m\u001b[0m\u001b[0m\n\u001b[1;32m   1906\u001b[0m             \u001b[1;32melse\u001b[0m\u001b[1;33m:\u001b[0m\u001b[1;33m\u001b[0m\u001b[0m\n\u001b[0;32m-> 1907\u001b[0;31m                 \u001b[0mnew_axis\u001b[0m \u001b[1;33m=\u001b[0m \u001b[0maxis\u001b[0m\u001b[1;33m.\u001b[0m\u001b[0mdrop\u001b[0m\u001b[1;33m(\u001b[0m\u001b[0mlabels\u001b[0m\u001b[1;33m,\u001b[0m \u001b[0merrors\u001b[0m\u001b[1;33m=\u001b[0m\u001b[0merrors\u001b[0m\u001b[1;33m)\u001b[0m\u001b[1;33m\u001b[0m\u001b[0m\n\u001b[0m\u001b[1;32m   1908\u001b[0m             \u001b[0mdropped\u001b[0m \u001b[1;33m=\u001b[0m \u001b[0mself\u001b[0m\u001b[1;33m.\u001b[0m\u001b[0mreindex\u001b[0m\u001b[1;33m(\u001b[0m\u001b[1;33m**\u001b[0m\u001b[1;33m{\u001b[0m\u001b[0maxis_name\u001b[0m\u001b[1;33m:\u001b[0m \u001b[0mnew_axis\u001b[0m\u001b[1;33m}\u001b[0m\u001b[1;33m)\u001b[0m\u001b[1;33m\u001b[0m\u001b[0m\n\u001b[1;32m   1909\u001b[0m             \u001b[1;32mtry\u001b[0m\u001b[1;33m:\u001b[0m\u001b[1;33m\u001b[0m\u001b[0m\n",
      "\u001b[0;32mC:\\Users\\Patrick\\Anaconda3\\lib\\site-packages\\pandas\\indexes\\base.py\u001b[0m in \u001b[0;36mdrop\u001b[0;34m(self, labels, errors)\u001b[0m\n\u001b[1;32m   3260\u001b[0m             \u001b[1;32mif\u001b[0m \u001b[0merrors\u001b[0m \u001b[1;33m!=\u001b[0m \u001b[1;34m'ignore'\u001b[0m\u001b[1;33m:\u001b[0m\u001b[1;33m\u001b[0m\u001b[0m\n\u001b[1;32m   3261\u001b[0m                 raise ValueError('labels %s not contained in axis' %\n\u001b[0;32m-> 3262\u001b[0;31m                                  labels[mask])\n\u001b[0m\u001b[1;32m   3263\u001b[0m             \u001b[0mindexer\u001b[0m \u001b[1;33m=\u001b[0m \u001b[0mindexer\u001b[0m\u001b[1;33m[\u001b[0m\u001b[1;33m~\u001b[0m\u001b[0mmask\u001b[0m\u001b[1;33m]\u001b[0m\u001b[1;33m\u001b[0m\u001b[0m\n\u001b[1;32m   3264\u001b[0m         \u001b[1;32mreturn\u001b[0m \u001b[0mself\u001b[0m\u001b[1;33m.\u001b[0m\u001b[0mdelete\u001b[0m\u001b[1;33m(\u001b[0m\u001b[0mindexer\u001b[0m\u001b[1;33m)\u001b[0m\u001b[1;33m\u001b[0m\u001b[0m\n",
      "\u001b[0;31mValueError\u001b[0m: labels ['Timestamp'] not contained in axis"
     ]
    }
   ],
   "source": [
    "timestamps_df = targets_df['Timestamp']\n",
    "\n",
    "food17_target_df =  CPI_df\n",
    "\n",
    "# remoe the timestamps from both\n",
    "targets_df = targets_df.drop('Timestamp', axis = 1)\n",
    "attributes_df = attributes_df.drop('Timestamp', axis = 1)\n",
    "\n",
    "# drop all attributes that are missing values for now\n",
    "# revise this later when we predict them.\n",
    "attributes_df =attributes_df.dropna(how='any', axis = 1)\n",
    "att_df= attributes_df\n"
   ]
  },
  {
   "cell_type": "code",
   "execution_count": null,
   "metadata": {
    "collapsed": true
   },
   "outputs": [],
   "source": [
    "#switches \n",
    "restaurants = True\n",
    "vegetables = True\n",
    "other = True\n",
    "meat = True\n",
    "dairyandeggs = True\n",
    "bakery = True\n",
    "fruit = True\n",
    "allitems = True\n",
    "fromstores = True\n",
    "beef = True\n",
    "pork = True\n",
    "chicken = True\n",
    "dairy = True\n",
    "eggs = True\n",
    "coffee = True\n",
    "babyfood = True\n",
    "shelter = True\n",
    "transportation = True\n",
    "gas = True\n",
    "energy = True\n",
    "fishandseafood = True\n"
   ]
  },
  {
   "cell_type": "code",
   "execution_count": null,
   "metadata": {
    "collapsed": false
   },
   "outputs": [],
   "source": [
    "    attributes_df=att_df\n",
    "    selector = SelectKBest(mutual_info_regression,k=29 )\n",
    "    attributes_df = selector.fit_transform(attributes_df,food17_target_df)\n",
    "    \n",
    "    idxs_selected = selector.get_support(indices=True)\n",
    "    # Create new dataframe with only desired columns, or overwrite existing\n",
    "    features_dataframe_new = att_df[idxs_selected]\n",
    "    print(\"food 17:\")\n",
    "    print(features_dataframe_new.info())\n",
    "    \n",
    "    oneyear = -12\n",
    "    #print(attributes_df)\n",
    "    \n",
    "    #2017 data added to targets:\n",
    "    att_train_oneyear_df = attributes_df[:-12]\n",
    "    #target groupings\n",
    "    tar_train_oneyear__df = targets_df[:oneyear]\n",
    "    tar_test_oneyear_df = targets_df[oneyear:]\n",
    "    # food 17 alone\n",
    "    food17_train_oneyear_df =food17_target_df[:oneyear]\n",
    "    food17_test_oneyear_df =food17_target_df[oneyear:]\n",
    "    \n",
    "    # Create linear regression object for one year\n",
    "    regr_oneyear = linear_model.LinearRegression()\n",
    "    # Train the model using the training sets\n",
    "    regr_oneyear.fit(att_train_oneyear_df, food17_train_oneyear_df)\n",
    "    # Make predictions using the testing set\n",
    "    food17_pred_oneyear = regr_oneyear.predict(att_train_oneyear_df[-12:])\n",
    "    \n",
    "    # The mean absolute error\n",
    "    print(\"Mean absolute error: %.2f\"\n",
    "          % mean_absolute_error(food17_test_oneyear_df, food17_pred_oneyear))\n",
    "    # Explained variance score: 1 is perfect prediction\n",
    "    print('Variance score: %.2f' % r2_score(food17_test_oneyear_df, food17_pred_oneyear))\n",
    "    \n",
    "    #target_CPI_pred.plot()\n",
    "    lastyear = timestamps_df[oneyear:]\n",
    "    lastyear= lastyear.as_matrix()\n",
    "    \n",
    "    # Plot outputs\n",
    "    plt.scatter(lastyear,food17_test_oneyear_df,  color='black')\n",
    "    plt.plot(lastyear,food17_pred_oneyear, color='blue', linewidth=3)\n",
    "    #plt.axis([lastyear[0]-3,lastyear[11]+3,135,148])\n",
    "    plt.xticks(())\n",
    "    plt.yticks(())\n",
    "    plt.ylabel('$')\n",
    "    plt.xlabel('Months')\n",
    "    #need to write script to compute dates from timestamps!\n",
    "    plt.title('2017-01-01 to 2018-01-01')\n",
    "    plt.show()"
   ]
  }
 ],
 "metadata": {
  "kernelspec": {
   "display_name": "Python 3",
   "language": "python",
   "name": "python3"
  },
  "language_info": {
   "codemirror_mode": {
    "name": "ipython",
    "version": 3
   },
   "file_extension": ".py",
   "mimetype": "text/x-python",
   "name": "python",
   "nbconvert_exporter": "python",
   "pygments_lexer": "ipython3",
   "version": "3.6.0"
  }
 },
 "nbformat": 4,
 "nbformat_minor": 2
}
