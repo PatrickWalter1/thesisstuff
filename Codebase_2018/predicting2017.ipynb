{
 "cells": [
  {
   "cell_type": "code",
   "execution_count": 30,
   "metadata": {
    "collapsed": true
   },
   "outputs": [],
   "source": [
    "import matplotlib.pyplot as plt\n",
    "import numpy as np\n",
    "import pandas as pd\n",
    "import os\n",
    "from sklearn import linear_model\n",
    "from sklearn.metrics import mean_absolute_error, r2_score\n",
    "from sklearn.feature_selection import VarianceThreshold, SelectKBest, chi2, f_regression, mutual_info_regression\n"
   ]
  },
  {
   "cell_type": "code",
   "execution_count": 31,
   "metadata": {
    "collapsed": false
   },
   "outputs": [
    {
     "name": "stdout",
     "output_type": "stream",
     "text": [
      "<class 'pandas.core.frame.DataFrame'>\n",
      "RangeIndex: 403 entries, 0 to 402\n",
      "Columns: 280 entries, Timestamp to Average of MORTGAGE30US\n",
      "dtypes: float64(278), object(2)\n",
      "memory usage: 881.6+ KB\n",
      "<class 'pandas.core.frame.DataFrame'>\n",
      "RangeIndex: 398 entries, 0 to 397\n",
      "Data columns (total 23 columns):\n",
      "Timestamp                     398 non-null int64\n",
      "Food 17                       398 non-null float64\n",
      "restaurants 17                398 non-null float64\n",
      "Vegetables                    398 non-null float64\n",
      "Other                         398 non-null float64\n",
      "Meat                          398 non-null float64\n",
      "Dairy products and eggs       398 non-null float64\n",
      "Bakery                        398 non-null float64\n",
      "Fruit                         398 non-null float64\n",
      "All-items                     398 non-null float64\n",
      "Food purchased from stores    398 non-null float64\n",
      "Fresh or frozen beef          398 non-null float64\n",
      "Fresh or frozen pork          398 non-null float64\n",
      "Fresh or frozen chicken       398 non-null float64\n",
      "Dairy products                398 non-null float64\n",
      "Eggs                          398 non-null float64\n",
      "Coffee                        398 non-null float64\n",
      "Baby foods                    398 non-null float64\n",
      "Shelter 18                    398 non-null float64\n",
      "Transportation                398 non-null float64\n",
      "Gasoline                      398 non-null float64\n",
      "Energy 25                     398 non-null float64\n",
      "Fish seafood                  398 non-null float64\n",
      "dtypes: float64(22), int64(1)\n",
      "memory usage: 71.6 KB\n"
     ]
    }
   ],
   "source": [
    "# data set from jay divided into two files\n",
    "attributes = \"Updated_2018_Dataset.csv\"\n",
    "attributes_df = pd.read_csv(attributes)\n",
    "\n",
    "targets = \"2018_Targets_2017.csv\"\n",
    "#targets dataframe contains all groups including Food 17\n",
    "targets_df = pd.read_csv(targets)\n",
    "\n",
    "attributes_df.info()\n",
    "targets_df.info()"
   ]
  },
  {
   "cell_type": "code",
   "execution_count": 32,
   "metadata": {
    "collapsed": true
   },
   "outputs": [],
   "source": [
    "#magic numbers to start at 1985 January and end December 2017\n",
    "attributes_df = attributes_df[170:-6]\n",
    "targets_df= targets_df[170:-2]"
   ]
  },
  {
   "cell_type": "code",
   "execution_count": 33,
   "metadata": {
    "collapsed": true
   },
   "outputs": [],
   "source": [
    "#individual target dataframes\n",
    "CPI_df = targets_df['Food 17']\n",
    "restaurants_df = targets_df['restaurants 17']\n",
    "vegetables_df = targets_df['Vegetables ']\n",
    "other_df = targets_df['Other ']\n",
    "meat_df = targets_df['Meat']\n",
    "dairyandeggs_df = targets_df['Dairy products and eggs']\n",
    "bakery_df = targets_df['Bakery']\n",
    "fruit_df = targets_df['Fruit']\n",
    "allitems_df = targets_df['All-items']\n",
    "fromstores_df = targets_df['Food purchased from stores']\n",
    "beef_df = targets_df['Fresh or frozen beef']\n",
    "pork_df = targets_df['Fresh or frozen pork']\n",
    "chicken_df = targets_df['Fresh or frozen chicken']\n",
    "dairy_df = targets_df['Dairy products']\n",
    "eggs_df = targets_df['Eggs']\n",
    "coffee_df = targets_df['Coffee']\n",
    "babyfood_df = targets_df['Baby foods']\n",
    "shelter18_df = targets_df['Shelter 18']\n",
    "transportation_df = targets_df['Transportation']\n",
    "gas_df = targets_df['Gasoline']\n",
    "energy25_df = targets_df['Energy 25']\n",
    "fishandseafood_df = targets_df['Fish seafood']"
   ]
  },
  {
   "cell_type": "code",
   "execution_count": 34,
   "metadata": {
    "collapsed": false
   },
   "outputs": [],
   "source": [
    "timestamps_df = targets_df['Timestamp']\n",
    "\n",
    "food17_target_df =  CPI_df\n",
    "\n",
    "# remoe the timestamps from both\n",
    "targets_df = targets_df.drop('Timestamp', axis = 1)\n",
    "attributes_df = attributes_df.drop('Timestamp', axis = 1)\n",
    "\n",
    "# drop all attributes that are missing values for now\n",
    "# revise this later when we predict them.\n",
    "attributes_df =attributes_df.dropna(how='any', axis = 1)\n",
    "att_df= attributes_df\n"
   ]
  },
  {
   "cell_type": "code",
   "execution_count": 35,
   "metadata": {
    "collapsed": true
   },
   "outputs": [],
   "source": [
    "#switches \n",
    "restaurants = True\n",
    "vegetables = True\n",
    "other = True\n",
    "meat = True\n",
    "dairyandeggs = True\n",
    "bakery = True\n",
    "fruit = True\n",
    "allitems = True\n",
    "fromstores = True\n",
    "beef = True\n",
    "pork = True\n",
    "chicken = True\n",
    "dairy = True\n",
    "eggs = True\n",
    "coffee = True\n",
    "babyfood = True\n",
    "shelter = True\n",
    "transportation = True\n",
    "gas = True\n",
    "energy = True\n",
    "fishandseafood = True\n"
   ]
  },
  {
   "cell_type": "code",
   "execution_count": 36,
   "metadata": {
    "collapsed": false
   },
   "outputs": [
    {
     "ename": "ValueError",
     "evalue": "could not convert string to float: '.'",
     "output_type": "error",
     "traceback": [
      "\u001b[0;31m---------------------------------------------------------------------------\u001b[0m",
      "\u001b[0;31mValueError\u001b[0m                                Traceback (most recent call last)",
      "\u001b[0;32m<ipython-input-36-2c2568985660>\u001b[0m in \u001b[0;36m<module>\u001b[0;34m()\u001b[0m\n\u001b[1;32m      1\u001b[0m \u001b[0mattributes_df\u001b[0m\u001b[1;33m=\u001b[0m\u001b[0matt_df\u001b[0m\u001b[1;33m\u001b[0m\u001b[0m\n\u001b[1;32m      2\u001b[0m \u001b[0mselector\u001b[0m \u001b[1;33m=\u001b[0m \u001b[0mSelectKBest\u001b[0m\u001b[1;33m(\u001b[0m\u001b[0mmutual_info_regression\u001b[0m\u001b[1;33m,\u001b[0m\u001b[0mk\u001b[0m\u001b[1;33m=\u001b[0m\u001b[1;36m29\u001b[0m \u001b[1;33m)\u001b[0m\u001b[1;33m\u001b[0m\u001b[0m\n\u001b[0;32m----> 3\u001b[0;31m \u001b[0mattributes_df\u001b[0m \u001b[1;33m=\u001b[0m \u001b[0mselector\u001b[0m\u001b[1;33m.\u001b[0m\u001b[0mfit_transform\u001b[0m\u001b[1;33m(\u001b[0m\u001b[0mattributes_df\u001b[0m\u001b[1;33m,\u001b[0m\u001b[0mfood17_target_df\u001b[0m\u001b[1;33m)\u001b[0m\u001b[1;33m\u001b[0m\u001b[0m\n\u001b[0m\u001b[1;32m      4\u001b[0m \u001b[1;33m\u001b[0m\u001b[0m\n\u001b[1;32m      5\u001b[0m \u001b[0midxs_selected\u001b[0m \u001b[1;33m=\u001b[0m \u001b[0mselector\u001b[0m\u001b[1;33m.\u001b[0m\u001b[0mget_support\u001b[0m\u001b[1;33m(\u001b[0m\u001b[0mindices\u001b[0m\u001b[1;33m=\u001b[0m\u001b[1;32mTrue\u001b[0m\u001b[1;33m)\u001b[0m\u001b[1;33m\u001b[0m\u001b[0m\n",
      "\u001b[0;32mC:\\Users\\Patrick\\Anaconda3\\lib\\site-packages\\sklearn\\base.py\u001b[0m in \u001b[0;36mfit_transform\u001b[0;34m(self, X, y, **fit_params)\u001b[0m\n\u001b[1;32m    495\u001b[0m         \u001b[1;32melse\u001b[0m\u001b[1;33m:\u001b[0m\u001b[1;33m\u001b[0m\u001b[0m\n\u001b[1;32m    496\u001b[0m             \u001b[1;31m# fit method of arity 2 (supervised transformation)\u001b[0m\u001b[1;33m\u001b[0m\u001b[1;33m\u001b[0m\u001b[0m\n\u001b[0;32m--> 497\u001b[0;31m             \u001b[1;32mreturn\u001b[0m \u001b[0mself\u001b[0m\u001b[1;33m.\u001b[0m\u001b[0mfit\u001b[0m\u001b[1;33m(\u001b[0m\u001b[0mX\u001b[0m\u001b[1;33m,\u001b[0m \u001b[0my\u001b[0m\u001b[1;33m,\u001b[0m \u001b[1;33m**\u001b[0m\u001b[0mfit_params\u001b[0m\u001b[1;33m)\u001b[0m\u001b[1;33m.\u001b[0m\u001b[0mtransform\u001b[0m\u001b[1;33m(\u001b[0m\u001b[0mX\u001b[0m\u001b[1;33m)\u001b[0m\u001b[1;33m\u001b[0m\u001b[0m\n\u001b[0m\u001b[1;32m    498\u001b[0m \u001b[1;33m\u001b[0m\u001b[0m\n\u001b[1;32m    499\u001b[0m \u001b[1;33m\u001b[0m\u001b[0m\n",
      "\u001b[0;32mC:\\Users\\Patrick\\Anaconda3\\lib\\site-packages\\sklearn\\feature_selection\\univariate_selection.py\u001b[0m in \u001b[0;36mfit\u001b[0;34m(self, X, y)\u001b[0m\n\u001b[1;32m    320\u001b[0m             \u001b[0mReturns\u001b[0m \u001b[0mself\u001b[0m\u001b[1;33m.\u001b[0m\u001b[1;33m\u001b[0m\u001b[0m\n\u001b[1;32m    321\u001b[0m         \"\"\"\n\u001b[0;32m--> 322\u001b[0;31m         \u001b[0mX\u001b[0m\u001b[1;33m,\u001b[0m \u001b[0my\u001b[0m \u001b[1;33m=\u001b[0m \u001b[0mcheck_X_y\u001b[0m\u001b[1;33m(\u001b[0m\u001b[0mX\u001b[0m\u001b[1;33m,\u001b[0m \u001b[0my\u001b[0m\u001b[1;33m,\u001b[0m \u001b[1;33m[\u001b[0m\u001b[1;34m'csr'\u001b[0m\u001b[1;33m,\u001b[0m \u001b[1;34m'csc'\u001b[0m\u001b[1;33m]\u001b[0m\u001b[1;33m,\u001b[0m \u001b[0mmulti_output\u001b[0m\u001b[1;33m=\u001b[0m\u001b[1;32mTrue\u001b[0m\u001b[1;33m)\u001b[0m\u001b[1;33m\u001b[0m\u001b[0m\n\u001b[0m\u001b[1;32m    323\u001b[0m \u001b[1;33m\u001b[0m\u001b[0m\n\u001b[1;32m    324\u001b[0m         \u001b[1;32mif\u001b[0m \u001b[1;32mnot\u001b[0m \u001b[0mcallable\u001b[0m\u001b[1;33m(\u001b[0m\u001b[0mself\u001b[0m\u001b[1;33m.\u001b[0m\u001b[0mscore_func\u001b[0m\u001b[1;33m)\u001b[0m\u001b[1;33m:\u001b[0m\u001b[1;33m\u001b[0m\u001b[0m\n",
      "\u001b[0;32mC:\\Users\\Patrick\\Anaconda3\\lib\\site-packages\\sklearn\\utils\\validation.py\u001b[0m in \u001b[0;36mcheck_X_y\u001b[0;34m(X, y, accept_sparse, dtype, order, copy, force_all_finite, ensure_2d, allow_nd, multi_output, ensure_min_samples, ensure_min_features, y_numeric, warn_on_dtype, estimator)\u001b[0m\n\u001b[1;32m    519\u001b[0m     X = check_array(X, accept_sparse, dtype, order, copy, force_all_finite,\n\u001b[1;32m    520\u001b[0m                     \u001b[0mensure_2d\u001b[0m\u001b[1;33m,\u001b[0m \u001b[0mallow_nd\u001b[0m\u001b[1;33m,\u001b[0m \u001b[0mensure_min_samples\u001b[0m\u001b[1;33m,\u001b[0m\u001b[1;33m\u001b[0m\u001b[0m\n\u001b[0;32m--> 521\u001b[0;31m                     ensure_min_features, warn_on_dtype, estimator)\n\u001b[0m\u001b[1;32m    522\u001b[0m     \u001b[1;32mif\u001b[0m \u001b[0mmulti_output\u001b[0m\u001b[1;33m:\u001b[0m\u001b[1;33m\u001b[0m\u001b[0m\n\u001b[1;32m    523\u001b[0m         y = check_array(y, 'csr', force_all_finite=True, ensure_2d=False,\n",
      "\u001b[0;32mC:\\Users\\Patrick\\Anaconda3\\lib\\site-packages\\sklearn\\utils\\validation.py\u001b[0m in \u001b[0;36mcheck_array\u001b[0;34m(array, accept_sparse, dtype, order, copy, force_all_finite, ensure_2d, allow_nd, ensure_min_samples, ensure_min_features, warn_on_dtype, estimator)\u001b[0m\n\u001b[1;32m    400\u001b[0m         \u001b[1;31m# make sure we actually converted to numeric:\u001b[0m\u001b[1;33m\u001b[0m\u001b[1;33m\u001b[0m\u001b[0m\n\u001b[1;32m    401\u001b[0m         \u001b[1;32mif\u001b[0m \u001b[0mdtype_numeric\u001b[0m \u001b[1;32mand\u001b[0m \u001b[0marray\u001b[0m\u001b[1;33m.\u001b[0m\u001b[0mdtype\u001b[0m\u001b[1;33m.\u001b[0m\u001b[0mkind\u001b[0m \u001b[1;33m==\u001b[0m \u001b[1;34m\"O\"\u001b[0m\u001b[1;33m:\u001b[0m\u001b[1;33m\u001b[0m\u001b[0m\n\u001b[0;32m--> 402\u001b[0;31m             \u001b[0marray\u001b[0m \u001b[1;33m=\u001b[0m \u001b[0marray\u001b[0m\u001b[1;33m.\u001b[0m\u001b[0mastype\u001b[0m\u001b[1;33m(\u001b[0m\u001b[0mnp\u001b[0m\u001b[1;33m.\u001b[0m\u001b[0mfloat64\u001b[0m\u001b[1;33m)\u001b[0m\u001b[1;33m\u001b[0m\u001b[0m\n\u001b[0m\u001b[1;32m    403\u001b[0m         \u001b[1;32mif\u001b[0m \u001b[1;32mnot\u001b[0m \u001b[0mallow_nd\u001b[0m \u001b[1;32mand\u001b[0m \u001b[0marray\u001b[0m\u001b[1;33m.\u001b[0m\u001b[0mndim\u001b[0m \u001b[1;33m>=\u001b[0m \u001b[1;36m3\u001b[0m\u001b[1;33m:\u001b[0m\u001b[1;33m\u001b[0m\u001b[0m\n\u001b[1;32m    404\u001b[0m             raise ValueError(\"Found array with dim %d. %s expected <= 2.\"\n",
      "\u001b[0;31mValueError\u001b[0m: could not convert string to float: '.'"
     ]
    }
   ],
   "source": [
    "    attributes_df=att_df\n",
    "    selector = SelectKBest(mutual_info_regression,k=29 )\n",
    "    attributes_df = selector.fit_transform(attributes_df,food17_target_df)\n",
    "    \n",
    "    idxs_selected = selector.get_support(indices=True)\n",
    "    # Create new dataframe with only desired columns, or overwrite existing\n",
    "    features_dataframe_new = att_df[idxs_selected]\n",
    "    print(\"food 17:\")\n",
    "    print(features_dataframe_new.info())\n",
    "    \n",
    "    oneyear = -12\n",
    "    #print(attributes_df)\n",
    "    \n",
    "    #2017 data added to targets:\n",
    "    att_train_oneyear_df = attributes_df[:-12]\n",
    "    #target groupings\n",
    "    tar_train_oneyear__df = targets_df[:oneyear]\n",
    "    tar_test_oneyear_df = targets_df[oneyear:]\n",
    "    # food 17 alone\n",
    "    food17_train_oneyear_df =food17_target_df[:oneyear]\n",
    "    food17_test_oneyear_df =food17_target_df[oneyear:]\n",
    "    \n",
    "    # Create linear regression object for one year\n",
    "    regr_oneyear = linear_model.LinearRegression()\n",
    "    # Train the model using the training sets\n",
    "    regr_oneyear.fit(att_train_oneyear_df, food17_train_oneyear_df)\n",
    "    # Make predictions using the testing set\n",
    "    food17_pred_oneyear = regr_oneyear.predict(att_train_oneyear_df[-12:])\n",
    "    \n",
    "    # The mean absolute error\n",
    "    print(\"Mean absolute error: %.2f\"\n",
    "          % mean_absolute_error(food17_test_oneyear_df, food17_pred_oneyear))\n",
    "    # Explained variance score: 1 is perfect prediction\n",
    "    print('Variance score: %.2f' % r2_score(food17_test_oneyear_df, food17_pred_oneyear))\n",
    "    \n",
    "    #target_CPI_pred.plot()\n",
    "    lastyear = timestamps_df[oneyear:]\n",
    "    lastyear= lastyear.as_matrix()\n",
    "    \n",
    "    # Plot outputs\n",
    "    plt.scatter(lastyear,food17_test_oneyear_df,  color='black')\n",
    "    plt.plot(lastyear,food17_pred_oneyear, color='blue', linewidth=3)\n",
    "    #plt.axis([lastyear[0]-3,lastyear[11]+3,135,148])\n",
    "    plt.xticks(())\n",
    "    plt.yticks(())\n",
    "    plt.ylabel('$')\n",
    "    plt.xlabel('Months')\n",
    "    #need to write script to compute dates from timestamps!\n",
    "    plt.title('2017-01-01 to 2018-01-01')\n",
    "    plt.show()"
   ]
  }
 ],
 "metadata": {
  "kernelspec": {
   "display_name": "Python 3",
   "language": "python",
   "name": "python3"
  },
  "language_info": {
   "codemirror_mode": {
    "name": "ipython",
    "version": 3
   },
   "file_extension": ".py",
   "mimetype": "text/x-python",
   "name": "python",
   "nbconvert_exporter": "python",
   "pygments_lexer": "ipython3",
   "version": "3.6.0"
  }
 },
 "nbformat": 4,
 "nbformat_minor": 2
}
